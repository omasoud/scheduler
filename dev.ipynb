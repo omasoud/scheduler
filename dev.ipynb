{
 "cells": [
  {
   "cell_type": "code",
   "execution_count": 14,
   "metadata": {},
   "outputs": [
    {
     "name": "stdout",
     "output_type": "stream",
     "text": [
      "\n",
      "Option 1:\n",
      "Draw                 Tuesday   10:15-12:15   Thursday  10:15-12:15   \n",
      "Photo                Tuesday   02:00-04:00   Thursday  02:00-04:00   \n",
      "Alg2                 Monday    12:30-01:45   Wednesday 12:30-01:45   \n",
      "Prog                 Monday    10:45-12:00   Wednesday 10:45-12:00   \n",
      "Logic                Tuesday   12:30-01:45   Thursday  12:30-01:45   \n",
      "\n",
      "Option 2:\n",
      "Photo                Tuesday   02:00-04:00   Thursday  02:00-04:00   \n",
      "Draw                 Tuesday   10:15-12:15   Thursday  10:15-12:15   \n",
      "Alg2                 Monday    12:30-01:45   Wednesday 12:30-01:45   \n",
      "Prog                 Monday    10:45-12:00   Wednesday 10:45-12:00   \n",
      "Logic                Tuesday   12:30-01:45   Thursday  12:30-01:45   \n"
     ]
    }
   ],
   "source": [
    "from scheduler import print_possible_options\n",
    "from classes_db import from_json_file\n",
    "import json\n",
    "\n",
    "print_possible_options(['Art','Art','Alg2','Prog','Logic'], from_json_file('classes_db.json'))"
   ]
  },
  {
   "cell_type": "code",
   "execution_count": null,
   "metadata": {},
   "outputs": [],
   "source": []
  }
 ],
 "metadata": {
  "kernelspec": {
   "display_name": "py312",
   "language": "python",
   "name": "python3"
  },
  "language_info": {
   "codemirror_mode": {
    "name": "ipython",
    "version": 3
   },
   "file_extension": ".py",
   "mimetype": "text/x-python",
   "name": "python",
   "nbconvert_exporter": "python",
   "pygments_lexer": "ipython3",
   "version": "3.12.1"
  }
 },
 "nbformat": 4,
 "nbformat_minor": 2
}
